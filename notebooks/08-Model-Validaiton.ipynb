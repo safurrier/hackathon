{
 "cells": [
  {
   "cell_type": "code",
   "execution_count": 3,
   "metadata": {},
   "outputs": [],
   "source": [
    "import ruamel.yaml as yaml\n",
    "import os\n",
    "import sys\n",
    "import pandas as pd\n",
    "import numpy as np\n",
    "import xgboost as xgb\n",
    "import shap\n",
    "from sklearn.model_selection import train_test_split\n",
    "\n",
    "NO_CONFIG_ERR_MSG = \"\"\"No config file found. Root directory is determined by presence of \"config.yaml\" file.\"\"\"\n",
    "\n",
    "original_wd = os.getcwd()\n",
    "\n",
    "# Number of times to move back in directory\n",
    "num_retries = 10\n",
    "for x in range(0, num_retries):\n",
    "    # try to load config file\n",
    "    try:\n",
    "        with open(\"config.yaml\", 'r') as stream:\n",
    "            cfg = yaml.safe_load(stream)\n",
    "    # If not found move back one directory level\n",
    "    except FileNotFoundError:\n",
    "        os.chdir('../')\n",
    "        # If reached the max number of directory levels change to original wd and print error msg\n",
    "        if x+1 == num_retries:\n",
    "            os.chdir(original_wd)\n",
    "            print(NO_CONFIG_ERR_MSG)\n",
    "\n",
    "# Add directory to PATH\n",
    "path = os.getcwd()\n",
    "\n",
    "if path not in sys.path:\n",
    "    sys.path.append(path)\n"
   ]
  },
  {
   "cell_type": "markdown",
   "metadata": {},
   "source": [
    "## Load and Process Data"
   ]
  },
  {
   "cell_type": "code",
   "execution_count": 4,
   "metadata": {},
   "outputs": [],
   "source": [
    "df = pd.read_csv('data/processed/modelling_data_dropped_null_wins.csv')"
   ]
  },
  {
   "cell_type": "markdown",
   "metadata": {},
   "source": [
    "## Fit Model"
   ]
  },
  {
   "cell_type": "code",
   "execution_count": 5,
   "metadata": {},
   "outputs": [
    {
     "data": {
      "text/html": [
       "<div>\n",
       "<style scoped>\n",
       "    .dataframe tbody tr th:only-of-type {\n",
       "        vertical-align: middle;\n",
       "    }\n",
       "\n",
       "    .dataframe tbody tr th {\n",
       "        vertical-align: top;\n",
       "    }\n",
       "\n",
       "    .dataframe thead th {\n",
       "        text-align: right;\n",
       "    }\n",
       "</style>\n",
       "<table border=\"1\" class=\"dataframe\">\n",
       "  <thead>\n",
       "    <tr style=\"text-align: right;\">\n",
       "      <th></th>\n",
       "      <th>Season_2014-15</th>\n",
       "      <th>Season_2015-16</th>\n",
       "      <th>Season_2016-17</th>\n",
       "      <th>Season_2017-18</th>\n",
       "      <th>Day_Of_WeekFri</th>\n",
       "      <th>Day_Of_WeekMon</th>\n",
       "      <th>Day_Of_WeekSat</th>\n",
       "      <th>Day_Of_WeekSun</th>\n",
       "      <th>Day_Of_WeekThu</th>\n",
       "      <th>Day_Of_WeekTue</th>\n",
       "      <th>...</th>\n",
       "      <th>player8_WINS</th>\n",
       "      <th>player8_RPM</th>\n",
       "      <th>player8_DRPM</th>\n",
       "      <th>player8_ORPM</th>\n",
       "      <th>player8_WINS_portion</th>\n",
       "      <th>player8_RPM_portion</th>\n",
       "      <th>Tot_WINS</th>\n",
       "      <th>Tot_RPM</th>\n",
       "      <th>Ticket_Value</th>\n",
       "      <th>TV_Rate</th>\n",
       "    </tr>\n",
       "  </thead>\n",
       "  <tbody>\n",
       "    <tr>\n",
       "      <th>0</th>\n",
       "      <td>0</td>\n",
       "      <td>0</td>\n",
       "      <td>1</td>\n",
       "      <td>0</td>\n",
       "      <td>0</td>\n",
       "      <td>0</td>\n",
       "      <td>0</td>\n",
       "      <td>0</td>\n",
       "      <td>1</td>\n",
       "      <td>0</td>\n",
       "      <td>...</td>\n",
       "      <td>2.67</td>\n",
       "      <td>-0.60</td>\n",
       "      <td>-0.46</td>\n",
       "      <td>-0.14</td>\n",
       "      <td>0.000927</td>\n",
       "      <td>-0.000208</td>\n",
       "      <td>0.004895</td>\n",
       "      <td>-0.000510</td>\n",
       "      <td>0.671432</td>\n",
       "      <td>5.288334</td>\n",
       "    </tr>\n",
       "    <tr>\n",
       "      <th>1</th>\n",
       "      <td>0</td>\n",
       "      <td>0</td>\n",
       "      <td>1</td>\n",
       "      <td>0</td>\n",
       "      <td>0</td>\n",
       "      <td>0</td>\n",
       "      <td>0</td>\n",
       "      <td>0</td>\n",
       "      <td>1</td>\n",
       "      <td>0</td>\n",
       "      <td>...</td>\n",
       "      <td>0.05</td>\n",
       "      <td>-3.02</td>\n",
       "      <td>-0.06</td>\n",
       "      <td>-2.96</td>\n",
       "      <td>0.000016</td>\n",
       "      <td>-0.000968</td>\n",
       "      <td>0.006687</td>\n",
       "      <td>-0.008436</td>\n",
       "      <td>0.697920</td>\n",
       "      <td>5.698246</td>\n",
       "    </tr>\n",
       "    <tr>\n",
       "      <th>2</th>\n",
       "      <td>0</td>\n",
       "      <td>0</td>\n",
       "      <td>1</td>\n",
       "      <td>0</td>\n",
       "      <td>1</td>\n",
       "      <td>0</td>\n",
       "      <td>0</td>\n",
       "      <td>0</td>\n",
       "      <td>0</td>\n",
       "      <td>0</td>\n",
       "      <td>...</td>\n",
       "      <td>4.06</td>\n",
       "      <td>0.13</td>\n",
       "      <td>-1.23</td>\n",
       "      <td>1.36</td>\n",
       "      <td>0.001208</td>\n",
       "      <td>0.000039</td>\n",
       "      <td>0.005304</td>\n",
       "      <td>-0.000855</td>\n",
       "      <td>0.725555</td>\n",
       "      <td>4.477193</td>\n",
       "    </tr>\n",
       "    <tr>\n",
       "      <th>3</th>\n",
       "      <td>0</td>\n",
       "      <td>0</td>\n",
       "      <td>1</td>\n",
       "      <td>0</td>\n",
       "      <td>1</td>\n",
       "      <td>0</td>\n",
       "      <td>0</td>\n",
       "      <td>0</td>\n",
       "      <td>0</td>\n",
       "      <td>0</td>\n",
       "      <td>...</td>\n",
       "      <td>0.98</td>\n",
       "      <td>-0.26</td>\n",
       "      <td>0.13</td>\n",
       "      <td>-0.39</td>\n",
       "      <td>0.000204</td>\n",
       "      <td>-0.000054</td>\n",
       "      <td>0.006790</td>\n",
       "      <td>-0.011398</td>\n",
       "      <td>0.463623</td>\n",
       "      <td>3.068853</td>\n",
       "    </tr>\n",
       "    <tr>\n",
       "      <th>4</th>\n",
       "      <td>0</td>\n",
       "      <td>0</td>\n",
       "      <td>1</td>\n",
       "      <td>0</td>\n",
       "      <td>1</td>\n",
       "      <td>0</td>\n",
       "      <td>0</td>\n",
       "      <td>0</td>\n",
       "      <td>0</td>\n",
       "      <td>0</td>\n",
       "      <td>...</td>\n",
       "      <td>2.40</td>\n",
       "      <td>-0.68</td>\n",
       "      <td>-1.24</td>\n",
       "      <td>0.56</td>\n",
       "      <td>0.000833</td>\n",
       "      <td>-0.000236</td>\n",
       "      <td>0.006875</td>\n",
       "      <td>-0.001303</td>\n",
       "      <td>0.759319</td>\n",
       "      <td>4.683684</td>\n",
       "    </tr>\n",
       "  </tbody>\n",
       "</table>\n",
       "<p>5 rows × 107 columns</p>\n",
       "</div>"
      ],
      "text/plain": [
       "   Season_2014-15  Season_2015-16  Season_2016-17  Season_2017-18  \\\n",
       "0               0               0               1               0   \n",
       "1               0               0               1               0   \n",
       "2               0               0               1               0   \n",
       "3               0               0               1               0   \n",
       "4               0               0               1               0   \n",
       "\n",
       "   Day_Of_WeekFri  Day_Of_WeekMon  Day_Of_WeekSat  Day_Of_WeekSun  \\\n",
       "0               0               0               0               0   \n",
       "1               0               0               0               0   \n",
       "2               1               0               0               0   \n",
       "3               1               0               0               0   \n",
       "4               1               0               0               0   \n",
       "\n",
       "   Day_Of_WeekThu  Day_Of_WeekTue    ...     player8_WINS  player8_RPM  \\\n",
       "0               1               0    ...             2.67        -0.60   \n",
       "1               1               0    ...             0.05        -3.02   \n",
       "2               0               0    ...             4.06         0.13   \n",
       "3               0               0    ...             0.98        -0.26   \n",
       "4               0               0    ...             2.40        -0.68   \n",
       "\n",
       "   player8_DRPM  player8_ORPM  player8_WINS_portion  player8_RPM_portion  \\\n",
       "0         -0.46         -0.14              0.000927            -0.000208   \n",
       "1         -0.06         -2.96              0.000016            -0.000968   \n",
       "2         -1.23          1.36              0.001208             0.000039   \n",
       "3          0.13         -0.39              0.000204            -0.000054   \n",
       "4         -1.24          0.56              0.000833            -0.000236   \n",
       "\n",
       "   Tot_WINS   Tot_RPM  Ticket_Value   TV_Rate  \n",
       "0  0.004895 -0.000510      0.671432  5.288334  \n",
       "1  0.006687 -0.008436      0.697920  5.698246  \n",
       "2  0.005304 -0.000855      0.725555  4.477193  \n",
       "3  0.006790 -0.011398      0.463623  3.068853  \n",
       "4  0.006875 -0.001303      0.759319  4.683684  \n",
       "\n",
       "[5 rows x 107 columns]"
      ]
     },
     "execution_count": 5,
     "metadata": {},
     "output_type": "execute_result"
    }
   ],
   "source": [
    "df.head()"
   ]
  },
  {
   "cell_type": "code",
   "execution_count": 6,
   "metadata": {},
   "outputs": [],
   "source": [
    "X = df.drop(columns=['Ticket_Value', 'TV_Rate'])\n",
    "Y_Tickets = df['Ticket_Value']\n",
    "Y_TV = df['TV_Rate']"
   ]
  },
  {
   "cell_type": "code",
   "execution_count": 8,
   "metadata": {},
   "outputs": [],
   "source": [
    "best_params_tickets =  {'subsample': 0.8,\n",
    " 'silent': 1,\n",
    " 'seed': 42,\n",
    " 'nthread': 4,\n",
    " 'n_estimators': 500,\n",
    " 'missing': -999,\n",
    " 'min_child_weight': 11,\n",
    " 'max_depth': 2,\n",
    " 'learning_rate': 0.05,\n",
    " 'colsample_bytree': 0.8}\n",
    "\n",
    "best_params_TV = {'subsample': 0.5,\n",
    " 'silent': 1,\n",
    " 'seed': 42,\n",
    " 'nthread': 4,\n",
    " 'n_estimators': 5,\n",
    " 'missing': -999,\n",
    " 'min_child_weight': 11,\n",
    " 'max_depth': 2,\n",
    " 'learning_rate': 0.001,\n",
    " 'colsample_bytree': 0.8}"
   ]
  },
  {
   "cell_type": "code",
   "execution_count": 45,
   "metadata": {},
   "outputs": [],
   "source": [
    "import xgboost as xgb\n",
    "gbr_tv = xgb.XGBRegressor()\n",
    "gbr_tickets = xgb.XGBRegressor(**best_params_tickets)"
   ]
  },
  {
   "cell_type": "code",
   "execution_count": 46,
   "metadata": {},
   "outputs": [],
   "source": [
    "from sklearn.model_selection import cross_val_score"
   ]
  },
  {
   "cell_type": "code",
   "execution_count": null,
   "metadata": {},
   "outputs": [],
   "source": []
  },
  {
   "cell_type": "code",
   "execution_count": 47,
   "metadata": {},
   "outputs": [
    {
     "name": "stdout",
     "output_type": "stream",
     "text": [
      "Wall time: 15.1 s\n"
     ]
    }
   ],
   "source": [
    "%%time\n",
    "scorers = ['neg_mean_squared_error', 'r2']\n",
    "mse_tv = cross_val_score(gbr_tv, X, Y_TV, cv=5, scoring='neg_mean_squared_error')\n",
    "mse_ticket = cross_val_score(gbr_tickets, X, Y_Tickets, cv=5, scoring='neg_mean_squared_error')"
   ]
  },
  {
   "cell_type": "code",
   "execution_count": 48,
   "metadata": {},
   "outputs": [],
   "source": [
    "r2_tv = cross_val_score(gbr_tv, X, Y_TV, cv=10, scoring='explained_variance')\n",
    "r2_ticket = cross_val_score(gbr_tickets, X, Y_Tickets, cv=10, scoring='explained_variance')"
   ]
  },
  {
   "cell_type": "code",
   "execution_count": 49,
   "metadata": {},
   "outputs": [],
   "source": [
    "r2_tv = np.mean([x for x in r2_tv])\n",
    "r2_ticket = np.mean([abs(x) for x in r2_ticket])"
   ]
  },
  {
   "cell_type": "code",
   "execution_count": 50,
   "metadata": {},
   "outputs": [
    {
     "name": "stdout",
     "output_type": "stream",
     "text": [
      "RMSE TV: 5.490907774438297\n",
      "RMSE Tickets: 0.25815280803812807\n",
      "R2 TV: 0.7381597339208542\n",
      "R2 Tickets: 0.3741427342046438\n"
     ]
    }
   ],
   "source": [
    "print(f'RMSE TV: {rmse_tv}')\n",
    "print(f'RMSE Tickets: {rmse_tickets}')\n",
    "print(f'R2 TV: {r2_tv}')\n",
    "print(f'R2 Tickets: {r2_ticket}')      "
   ]
  },
  {
   "cell_type": "markdown",
   "metadata": {},
   "source": [
    "## Plot Partial Dependence"
   ]
  },
  {
   "cell_type": "markdown",
   "metadata": {},
   "source": [
    "## Create PDP manually"
   ]
  },
  {
   "cell_type": "markdown",
   "metadata": {},
   "source": [
    "Xaxis is val -- > 0 or 1\n",
    "Y is output prediction\n",
    "\n",
    "1) Make predictions with Avg Prediction (take mean columnwise)\n",
    "\n",
    "2) Make Prediction when Superteam ==0, and when it ==1\n",
    "\n",
    "3) Plot these two rows"
   ]
  },
  {
   "cell_type": "code",
   "execution_count": 8,
   "metadata": {},
   "outputs": [],
   "source": [
    "avg_pred = pd.DataFrame(X.mean()).T\n",
    "superteam_absent = avg_pred.assign(superteam_flg = 0)\n",
    "superteam_present = avg_pred.assign(superteam_flg = 1)\n",
    "pdp_predictions = pd.concat([superteam_absent, superteam_present])\n",
    "pdp_predictions.index = ['Superteam_Absent', 'Superteam_Present']"
   ]
  },
  {
   "cell_type": "code",
   "execution_count": 9,
   "metadata": {},
   "outputs": [],
   "source": [
    "pdp_predictions['TV_Rating_Predictions'] = gbr_tv.predict(pdp_predictions)\n",
    "pdp_predictions['Ticket_Value_Predictions'] = gbr_tickets.predict(pdp_predictions.drop(columns='TV_Rating_Predictions'))"
   ]
  },
  {
   "cell_type": "code",
   "execution_count": 10,
   "metadata": {},
   "outputs": [],
   "source": [
    "import altair as alt"
   ]
  },
  {
   "cell_type": "code",
   "execution_count": 11,
   "metadata": {},
   "outputs": [
    {
     "data": {
      "text/html": [
       "<div>\n",
       "<style scoped>\n",
       "    .dataframe tbody tr th:only-of-type {\n",
       "        vertical-align: middle;\n",
       "    }\n",
       "\n",
       "    .dataframe tbody tr th {\n",
       "        vertical-align: top;\n",
       "    }\n",
       "\n",
       "    .dataframe thead th {\n",
       "        text-align: right;\n",
       "    }\n",
       "</style>\n",
       "<table border=\"1\" class=\"dataframe\">\n",
       "  <thead>\n",
       "    <tr style=\"text-align: right;\">\n",
       "      <th></th>\n",
       "      <th>Season_2014-15</th>\n",
       "      <th>Season_2015-16</th>\n",
       "      <th>Season_2016-17</th>\n",
       "      <th>Season_2017-18</th>\n",
       "      <th>Day_Of_WeekFri</th>\n",
       "      <th>Day_Of_WeekMon</th>\n",
       "      <th>Day_Of_WeekSat</th>\n",
       "      <th>Day_Of_WeekSun</th>\n",
       "      <th>Day_Of_WeekThu</th>\n",
       "      <th>Day_Of_WeekTue</th>\n",
       "      <th>...</th>\n",
       "      <th>player8_WINS</th>\n",
       "      <th>player8_RPM</th>\n",
       "      <th>player8_DRPM</th>\n",
       "      <th>player8_ORPM</th>\n",
       "      <th>player8_WINS_portion</th>\n",
       "      <th>player8_RPM_portion</th>\n",
       "      <th>Tot_WINS</th>\n",
       "      <th>Tot_RPM</th>\n",
       "      <th>TV_Rating_Predictions</th>\n",
       "      <th>Ticket_Value_Predictions</th>\n",
       "    </tr>\n",
       "  </thead>\n",
       "  <tbody>\n",
       "    <tr>\n",
       "      <th>Superteam_Absent</th>\n",
       "      <td>0.0</td>\n",
       "      <td>0.0</td>\n",
       "      <td>0.497639</td>\n",
       "      <td>0.502361</td>\n",
       "      <td>0.183047</td>\n",
       "      <td>0.144421</td>\n",
       "      <td>0.15279</td>\n",
       "      <td>0.120386</td>\n",
       "      <td>0.088627</td>\n",
       "      <td>0.119742</td>\n",
       "      <td>...</td>\n",
       "      <td>1.83</td>\n",
       "      <td>-1.014193</td>\n",
       "      <td>0.073327</td>\n",
       "      <td>-1.08752</td>\n",
       "      <td>0.000462</td>\n",
       "      <td>-0.00027</td>\n",
       "      <td>0.005754</td>\n",
       "      <td>-0.002952</td>\n",
       "      <td>0.514071</td>\n",
       "      <td>0.404294</td>\n",
       "    </tr>\n",
       "    <tr>\n",
       "      <th>Superteam_Present</th>\n",
       "      <td>0.0</td>\n",
       "      <td>0.0</td>\n",
       "      <td>0.497639</td>\n",
       "      <td>0.502361</td>\n",
       "      <td>0.183047</td>\n",
       "      <td>0.144421</td>\n",
       "      <td>0.15279</td>\n",
       "      <td>0.120386</td>\n",
       "      <td>0.088627</td>\n",
       "      <td>0.119742</td>\n",
       "      <td>...</td>\n",
       "      <td>1.83</td>\n",
       "      <td>-1.014193</td>\n",
       "      <td>0.073327</td>\n",
       "      <td>-1.08752</td>\n",
       "      <td>0.000462</td>\n",
       "      <td>-0.00027</td>\n",
       "      <td>0.005754</td>\n",
       "      <td>-0.002952</td>\n",
       "      <td>0.533138</td>\n",
       "      <td>0.446597</td>\n",
       "    </tr>\n",
       "  </tbody>\n",
       "</table>\n",
       "<p>2 rows × 107 columns</p>\n",
       "</div>"
      ],
      "text/plain": [
       "                   Season_2014-15  Season_2015-16  Season_2016-17  \\\n",
       "Superteam_Absent              0.0             0.0        0.497639   \n",
       "Superteam_Present             0.0             0.0        0.497639   \n",
       "\n",
       "                   Season_2017-18  Day_Of_WeekFri  Day_Of_WeekMon  \\\n",
       "Superteam_Absent         0.502361        0.183047        0.144421   \n",
       "Superteam_Present        0.502361        0.183047        0.144421   \n",
       "\n",
       "                   Day_Of_WeekSat  Day_Of_WeekSun  Day_Of_WeekThu  \\\n",
       "Superteam_Absent          0.15279        0.120386        0.088627   \n",
       "Superteam_Present         0.15279        0.120386        0.088627   \n",
       "\n",
       "                   Day_Of_WeekTue            ...             player8_WINS  \\\n",
       "Superteam_Absent         0.119742            ...                     1.83   \n",
       "Superteam_Present        0.119742            ...                     1.83   \n",
       "\n",
       "                   player8_RPM  player8_DRPM  player8_ORPM  \\\n",
       "Superteam_Absent     -1.014193      0.073327      -1.08752   \n",
       "Superteam_Present    -1.014193      0.073327      -1.08752   \n",
       "\n",
       "                   player8_WINS_portion  player8_RPM_portion  Tot_WINS  \\\n",
       "Superteam_Absent               0.000462             -0.00027  0.005754   \n",
       "Superteam_Present              0.000462             -0.00027  0.005754   \n",
       "\n",
       "                    Tot_RPM  TV_Rating_Predictions  Ticket_Value_Predictions  \n",
       "Superteam_Absent  -0.002952               0.514071                  0.404294  \n",
       "Superteam_Present -0.002952               0.533138                  0.446597  \n",
       "\n",
       "[2 rows x 107 columns]"
      ]
     },
     "execution_count": 11,
     "metadata": {},
     "output_type": "execute_result"
    }
   ],
   "source": [
    "pdp_predictions.head()"
   ]
  },
  {
   "cell_type": "code",
   "execution_count": 29,
   "metadata": {},
   "outputs": [
    {
     "data": {
      "text/html": [
       "<div>\n",
       "<style scoped>\n",
       "    .dataframe tbody tr th:only-of-type {\n",
       "        vertical-align: middle;\n",
       "    }\n",
       "\n",
       "    .dataframe tbody tr th {\n",
       "        vertical-align: top;\n",
       "    }\n",
       "\n",
       "    .dataframe thead th {\n",
       "        text-align: right;\n",
       "    }\n",
       "</style>\n",
       "<table border=\"1\" class=\"dataframe\">\n",
       "  <thead>\n",
       "    <tr style=\"text-align: right;\">\n",
       "      <th></th>\n",
       "      <th>Season_2014-15</th>\n",
       "      <th>Season_2015-16</th>\n",
       "      <th>Season_2016-17</th>\n",
       "      <th>Season_2017-18</th>\n",
       "      <th>Day_Of_WeekFri</th>\n",
       "      <th>Day_Of_WeekMon</th>\n",
       "      <th>Day_Of_WeekSat</th>\n",
       "      <th>Day_Of_WeekSun</th>\n",
       "      <th>Day_Of_WeekThu</th>\n",
       "      <th>Day_Of_WeekTue</th>\n",
       "      <th>...</th>\n",
       "      <th>player8_WINS</th>\n",
       "      <th>player8_RPM</th>\n",
       "      <th>player8_DRPM</th>\n",
       "      <th>player8_ORPM</th>\n",
       "      <th>player8_WINS_portion</th>\n",
       "      <th>player8_RPM_portion</th>\n",
       "      <th>Tot_WINS</th>\n",
       "      <th>Tot_RPM</th>\n",
       "      <th>TV_Rating_Predictions</th>\n",
       "      <th>Ticket_Value_Predictions</th>\n",
       "    </tr>\n",
       "  </thead>\n",
       "  <tbody>\n",
       "    <tr>\n",
       "      <th>Superteam_Absent</th>\n",
       "      <td>NaN</td>\n",
       "      <td>NaN</td>\n",
       "      <td>NaN</td>\n",
       "      <td>NaN</td>\n",
       "      <td>NaN</td>\n",
       "      <td>NaN</td>\n",
       "      <td>NaN</td>\n",
       "      <td>NaN</td>\n",
       "      <td>NaN</td>\n",
       "      <td>NaN</td>\n",
       "      <td>...</td>\n",
       "      <td>NaN</td>\n",
       "      <td>NaN</td>\n",
       "      <td>NaN</td>\n",
       "      <td>NaN</td>\n",
       "      <td>NaN</td>\n",
       "      <td>NaN</td>\n",
       "      <td>NaN</td>\n",
       "      <td>NaN</td>\n",
       "      <td>NaN</td>\n",
       "      <td>NaN</td>\n",
       "    </tr>\n",
       "    <tr>\n",
       "      <th>Superteam_Present</th>\n",
       "      <td>0.0</td>\n",
       "      <td>0.0</td>\n",
       "      <td>0.0</td>\n",
       "      <td>0.0</td>\n",
       "      <td>0.0</td>\n",
       "      <td>0.0</td>\n",
       "      <td>0.0</td>\n",
       "      <td>0.0</td>\n",
       "      <td>0.0</td>\n",
       "      <td>0.0</td>\n",
       "      <td>...</td>\n",
       "      <td>0.0</td>\n",
       "      <td>0.0</td>\n",
       "      <td>0.0</td>\n",
       "      <td>0.0</td>\n",
       "      <td>0.0</td>\n",
       "      <td>0.0</td>\n",
       "      <td>0.0</td>\n",
       "      <td>0.0</td>\n",
       "      <td>0.019067</td>\n",
       "      <td>0.042303</td>\n",
       "    </tr>\n",
       "  </tbody>\n",
       "</table>\n",
       "<p>2 rows × 107 columns</p>\n",
       "</div>"
      ],
      "text/plain": [
       "                   Season_2014-15  Season_2015-16  Season_2016-17  \\\n",
       "Superteam_Absent              NaN             NaN             NaN   \n",
       "Superteam_Present             0.0             0.0             0.0   \n",
       "\n",
       "                   Season_2017-18  Day_Of_WeekFri  Day_Of_WeekMon  \\\n",
       "Superteam_Absent              NaN             NaN             NaN   \n",
       "Superteam_Present             0.0             0.0             0.0   \n",
       "\n",
       "                   Day_Of_WeekSat  Day_Of_WeekSun  Day_Of_WeekThu  \\\n",
       "Superteam_Absent              NaN             NaN             NaN   \n",
       "Superteam_Present             0.0             0.0             0.0   \n",
       "\n",
       "                   Day_Of_WeekTue            ...             player8_WINS  \\\n",
       "Superteam_Absent              NaN            ...                      NaN   \n",
       "Superteam_Present             0.0            ...                      0.0   \n",
       "\n",
       "                   player8_RPM  player8_DRPM  player8_ORPM  \\\n",
       "Superteam_Absent           NaN           NaN           NaN   \n",
       "Superteam_Present          0.0           0.0           0.0   \n",
       "\n",
       "                   player8_WINS_portion  player8_RPM_portion  Tot_WINS  \\\n",
       "Superteam_Absent                    NaN                  NaN       NaN   \n",
       "Superteam_Present                   0.0                  0.0       0.0   \n",
       "\n",
       "                   Tot_RPM  TV_Rating_Predictions  Ticket_Value_Predictions  \n",
       "Superteam_Absent       NaN                    NaN                       NaN  \n",
       "Superteam_Present      0.0               0.019067                  0.042303  \n",
       "\n",
       "[2 rows x 107 columns]"
      ]
     },
     "execution_count": 29,
     "metadata": {},
     "output_type": "execute_result"
    }
   ],
   "source": [
    "pdp_predictions.diff()"
   ]
  },
  {
   "cell_type": "code",
   "execution_count": 22,
   "metadata": {},
   "outputs": [
    {
     "data": {
      "text/plain": [
       "ThemeRegistry.enable('opaque')"
      ]
     },
     "execution_count": 22,
     "metadata": {},
     "output_type": "execute_result"
    }
   ],
   "source": [
    "alt.themes.enable('opaque')"
   ]
  },
  {
   "cell_type": "code",
   "execution_count": 27,
   "metadata": {},
   "outputs": [
    {
     "data": {
      "application/vnd.vegalite.v2+json": {
       "$schema": "https://vega.github.io/schema/vega-lite/v2.6.0.json",
       "config": {
        "background": "white",
        "view": {
         "height": 300,
         "width": 400
        }
       },
       "data": {
        "name": "data-3ec7eb4c60a284df9fd85efef939a07c"
       },
       "datasets": {
        "data-3ec7eb4c60a284df9fd85efef939a07c": [
         {
          "Day_Of_WeekFri": 0.1830472103004292,
          "Day_Of_WeekMon": 0.1444206008583691,
          "Day_Of_WeekSat": 0.15278969957081545,
          "Day_Of_WeekSun": 0.1203862660944206,
          "Day_Of_WeekThu": 0.08862660944206009,
          "Day_Of_WeekTue": 0.11974248927038626,
          "Day_Of_WeekWed": 0.19098712446351931,
          "Losses_Entering_Gm": 20.121888412017167,
          "Salaries": 106015773.45944206,
          "Season_2014-15": 0,
          "Season_2015-16": 0,
          "Season_2016-17": 0.49763948497854077,
          "Season_2017-18": 0.5023605150214592,
          "TV_Rating_Predictions": 0.5140711665153503,
          "Team_Atlanta": 0.03454935622317597,
          "Team_Boston": 0.034334763948497854,
          "Team_Brooklyn": 0,
          "Team_Charlotte": 0.03476394849785408,
          "Team_Chicago": 0.03454935622317597,
          "Team_Cleveland": 0.03454935622317597,
          "Team_Dallas": 0.03347639484978541,
          "Team_Denver": 0.03412017167381974,
          "Team_Detroit": 0.03476394849785408,
          "Team_Golden State": 0.03454935622317597,
          "Team_Houston": 0.03476394849785408,
          "Team_Indiana": 0.03454935622317597,
          "Team_L.A. Clippers": 0.03476394849785408,
          "Team_L.A. Lakers": 0.03454935622317597,
          "Team_Memphis": 0.03454935622317597,
          "Team_Miami": 0.03454935622317597,
          "Team_Milwaukee": 0.03476394849785408,
          "Team_Minnesota": 0.03454935622317597,
          "Team_New Orleans": 0.03454935622317597,
          "Team_New York": 0.03454935622317597,
          "Team_Oklahoma City": 0.03412017167381974,
          "Team_Orlando": 0.03476394849785408,
          "Team_Philadelphia": 0.034334763948497854,
          "Team_Phoenix": 0.034334763948497854,
          "Team_Portland": 0.03454935622317597,
          "Team_Sacramento": 0.03369098712446352,
          "Team_San Antonio": 0.034334763948497854,
          "Team_Toronto": 0.03454935622317597,
          "Team_Utah": 0.03476394849785408,
          "Team_Washington": 0.03476394849785408,
          "Ticket_Value_Predictions": 0.40429407358169556,
          "Tot_RPM": -0.002951761292489257,
          "Tot_WINS": 0.005754210862660972,
          "WIN_Perc": 0.5076101757369083,
          "Wins_Entering_Gm": 20.817596566523605,
          "market_size": 2.2047939914162678,
          "player1_DRPM": 0.12649391617845945,
          "player1_ORPM": 1.4779652996845583,
          "player1_RPM": 1.6044592158630058,
          "player1_RPM_portion": 0.00018011879360072192,
          "player1_WINS": 7.431347453807999,
          "player1_WINS_portion": 0.0008480545347003134,
          "player1_minutes": 36.4343347639485,
          "player2_DRPM": -0.03621064552661359,
          "player2_ORPM": 1.0304892412231061,
          "player2_RPM": 0.9942785956964842,
          "player2_RPM_portion": 0.00011771833861834751,
          "player2_WINS": 6.117730464326189,
          "player2_WINS_portion": 0.0007474565898074731,
          "player2_minutes": 33.97124463519313,
          "player3_DRPM": 0.17067143516382233,
          "player3_ORPM": 0.4182464236271342,
          "player3_RPM": 0.5889178587909472,
          "player3_RPM_portion": 7.189134656206699e-05,
          "player3_WINS": 5.177602676511286,
          "player3_WINS_portion": 0.0006756861654360872,
          "player3_minutes": 31.742918454935623,
          "player4_DRPM": 0.12260960820895496,
          "player4_ORPM": 0.029321361940299,
          "player4_RPM": 0.15193097014925178,
          "player4_RPM_portion": 1.612244636194038e-05,
          "player4_WINS": 4.279099813432857,
          "player4_WINS_portion": 0.0006020657733208943,
          "player4_minutes": 29.42038626609442,
          "player5_DRPM": 0.15111320754716975,
          "player5_ORPM": -0.35759433962264137,
          "player5_RPM": -0.2064811320754731,
          "player5_RPM_portion": -3.6037810613207384e-05,
          "player5_WINS": 3.5365896226415,
          "player5_WINS_portion": 0.0005521811686320691,
          "player5_minutes": 26.64420600858369,
          "player6_DRPM": -0.11277965284474285,
          "player6_ORPM": -0.5993008678881452,
          "player6_RPM": -0.712080520732876,
          "player6_RPM_portion": -0.00013601031292188897,
          "player6_WINS": 2.6099831243972886,
          "player6_WINS_portion": 0.00047324584932497825,
          "player6_minutes": 22.92489270386266,
          "player7_DRPM": -0.025170755170755066,
          "player7_ORPM": -0.8544179894179836,
          "player7_RPM": -0.8795887445887343,
          "player7_RPM_portion": -0.0001948868191438186,
          "player7_WINS": 2.2044588744588944,
          "player7_WINS_portion": 0.00046350967003366806,
          "player7_minutes": 19.759871244635193,
          "player8_DRPM": 0.0733269184508063,
          "player8_ORPM": -1.0875198460428035,
          "player8_RPM": -1.0141929275920136,
          "player8_RPM_portion": -0.0002696455949001659,
          "player8_WINS": 1.8299999999999959,
          "player8_WINS_portion": 0.0004621894556170286,
          "player8_minutes": 16.689781021897808,
          "superteam_flg": 0
         },
         {
          "Day_Of_WeekFri": 0.1830472103004292,
          "Day_Of_WeekMon": 0.1444206008583691,
          "Day_Of_WeekSat": 0.15278969957081545,
          "Day_Of_WeekSun": 0.1203862660944206,
          "Day_Of_WeekThu": 0.08862660944206009,
          "Day_Of_WeekTue": 0.11974248927038626,
          "Day_Of_WeekWed": 0.19098712446351931,
          "Losses_Entering_Gm": 20.121888412017167,
          "Salaries": 106015773.45944206,
          "Season_2014-15": 0,
          "Season_2015-16": 0,
          "Season_2016-17": 0.49763948497854077,
          "Season_2017-18": 0.5023605150214592,
          "TV_Rating_Predictions": 0.5331376791000366,
          "Team_Atlanta": 0.03454935622317597,
          "Team_Boston": 0.034334763948497854,
          "Team_Brooklyn": 0,
          "Team_Charlotte": 0.03476394849785408,
          "Team_Chicago": 0.03454935622317597,
          "Team_Cleveland": 0.03454935622317597,
          "Team_Dallas": 0.03347639484978541,
          "Team_Denver": 0.03412017167381974,
          "Team_Detroit": 0.03476394849785408,
          "Team_Golden State": 0.03454935622317597,
          "Team_Houston": 0.03476394849785408,
          "Team_Indiana": 0.03454935622317597,
          "Team_L.A. Clippers": 0.03476394849785408,
          "Team_L.A. Lakers": 0.03454935622317597,
          "Team_Memphis": 0.03454935622317597,
          "Team_Miami": 0.03454935622317597,
          "Team_Milwaukee": 0.03476394849785408,
          "Team_Minnesota": 0.03454935622317597,
          "Team_New Orleans": 0.03454935622317597,
          "Team_New York": 0.03454935622317597,
          "Team_Oklahoma City": 0.03412017167381974,
          "Team_Orlando": 0.03476394849785408,
          "Team_Philadelphia": 0.034334763948497854,
          "Team_Phoenix": 0.034334763948497854,
          "Team_Portland": 0.03454935622317597,
          "Team_Sacramento": 0.03369098712446352,
          "Team_San Antonio": 0.034334763948497854,
          "Team_Toronto": 0.03454935622317597,
          "Team_Utah": 0.03476394849785408,
          "Team_Washington": 0.03476394849785408,
          "Ticket_Value_Predictions": 0.4465968608856201,
          "Tot_RPM": -0.002951761292489257,
          "Tot_WINS": 0.005754210862660972,
          "WIN_Perc": 0.5076101757369083,
          "Wins_Entering_Gm": 20.817596566523605,
          "market_size": 2.2047939914162678,
          "player1_DRPM": 0.12649391617845945,
          "player1_ORPM": 1.4779652996845583,
          "player1_RPM": 1.6044592158630058,
          "player1_RPM_portion": 0.00018011879360072192,
          "player1_WINS": 7.431347453807999,
          "player1_WINS_portion": 0.0008480545347003134,
          "player1_minutes": 36.4343347639485,
          "player2_DRPM": -0.03621064552661359,
          "player2_ORPM": 1.0304892412231061,
          "player2_RPM": 0.9942785956964842,
          "player2_RPM_portion": 0.00011771833861834751,
          "player2_WINS": 6.117730464326189,
          "player2_WINS_portion": 0.0007474565898074731,
          "player2_minutes": 33.97124463519313,
          "player3_DRPM": 0.17067143516382233,
          "player3_ORPM": 0.4182464236271342,
          "player3_RPM": 0.5889178587909472,
          "player3_RPM_portion": 7.189134656206699e-05,
          "player3_WINS": 5.177602676511286,
          "player3_WINS_portion": 0.0006756861654360872,
          "player3_minutes": 31.742918454935623,
          "player4_DRPM": 0.12260960820895496,
          "player4_ORPM": 0.029321361940299,
          "player4_RPM": 0.15193097014925178,
          "player4_RPM_portion": 1.612244636194038e-05,
          "player4_WINS": 4.279099813432857,
          "player4_WINS_portion": 0.0006020657733208943,
          "player4_minutes": 29.42038626609442,
          "player5_DRPM": 0.15111320754716975,
          "player5_ORPM": -0.35759433962264137,
          "player5_RPM": -0.2064811320754731,
          "player5_RPM_portion": -3.6037810613207384e-05,
          "player5_WINS": 3.5365896226415,
          "player5_WINS_portion": 0.0005521811686320691,
          "player5_minutes": 26.64420600858369,
          "player6_DRPM": -0.11277965284474285,
          "player6_ORPM": -0.5993008678881452,
          "player6_RPM": -0.712080520732876,
          "player6_RPM_portion": -0.00013601031292188897,
          "player6_WINS": 2.6099831243972886,
          "player6_WINS_portion": 0.00047324584932497825,
          "player6_minutes": 22.92489270386266,
          "player7_DRPM": -0.025170755170755066,
          "player7_ORPM": -0.8544179894179836,
          "player7_RPM": -0.8795887445887343,
          "player7_RPM_portion": -0.0001948868191438186,
          "player7_WINS": 2.2044588744588944,
          "player7_WINS_portion": 0.00046350967003366806,
          "player7_minutes": 19.759871244635193,
          "player8_DRPM": 0.0733269184508063,
          "player8_ORPM": -1.0875198460428035,
          "player8_RPM": -1.0141929275920136,
          "player8_RPM_portion": -0.0002696455949001659,
          "player8_WINS": 1.8299999999999959,
          "player8_WINS_portion": 0.0004621894556170286,
          "player8_minutes": 16.689781021897808,
          "superteam_flg": 1
         }
        ]
       },
       "encoding": {
        "color": {
         "field": "superteam_flg",
         "type": "nominal"
        },
        "x": {
         "field": "superteam_flg",
         "title": "",
         "type": "ordinal"
        },
        "y": {
         "field": "TV_Rating_Predictions",
         "scale": {
          "domain": [
           0,
           0.75
          ]
         },
         "type": "quantitative"
        }
       },
       "mark": "bar"
      },
      "image/png": "[encoded data removed]",
      "text/plain": [
       "<VegaLite 2 object>\n",
       "\n",
       "If you see this message, it means the renderer has not been properly enabled\n",
       "for the frontend that you are using. For more information, see\n",
       "https://altair-viz.github.io/user_guide/troubleshooting.html\n"
      ]
     },
     "execution_count": 27,
     "metadata": {},
     "output_type": "execute_result"
    }
   ],
   "source": [
    "alt.Chart(pdp_predictions).mark_bar().encode(\n",
    "    x=alt.X('superteam_flg:O', title=''),\n",
    "    y=alt.Y('TV_Rating_Predictions:Q', scale=alt.Scale(domain=[0, .75])),\n",
    "    color='superteam_flg:N'\n",
    ")"
   ]
  },
  {
   "cell_type": "code",
   "execution_count": 26,
   "metadata": {},
   "outputs": [
    {
     "data": {
      "application/vnd.vegalite.v2+json": {
       "$schema": "https://vega.github.io/schema/vega-lite/v2.6.0.json",
       "config": {
        "background": "white",
        "view": {
         "height": 300,
         "width": 400
        }
       },
       "data": {
        "name": "data-3ec7eb4c60a284df9fd85efef939a07c"
       },
       "datasets": {
        "data-3ec7eb4c60a284df9fd85efef939a07c": [
         {
          "Day_Of_WeekFri": 0.1830472103004292,
          "Day_Of_WeekMon": 0.1444206008583691,
          "Day_Of_WeekSat": 0.15278969957081545,
          "Day_Of_WeekSun": 0.1203862660944206,
          "Day_Of_WeekThu": 0.08862660944206009,
          "Day_Of_WeekTue": 0.11974248927038626,
          "Day_Of_WeekWed": 0.19098712446351931,
          "Losses_Entering_Gm": 20.121888412017167,
          "Salaries": 106015773.45944206,
          "Season_2014-15": 0,
          "Season_2015-16": 0,
          "Season_2016-17": 0.49763948497854077,
          "Season_2017-18": 0.5023605150214592,
          "TV_Rating_Predictions": 0.5140711665153503,
          "Team_Atlanta": 0.03454935622317597,
          "Team_Boston": 0.034334763948497854,
          "Team_Brooklyn": 0,
          "Team_Charlotte": 0.03476394849785408,
          "Team_Chicago": 0.03454935622317597,
          "Team_Cleveland": 0.03454935622317597,
          "Team_Dallas": 0.03347639484978541,
          "Team_Denver": 0.03412017167381974,
          "Team_Detroit": 0.03476394849785408,
          "Team_Golden State": 0.03454935622317597,
          "Team_Houston": 0.03476394849785408,
          "Team_Indiana": 0.03454935622317597,
          "Team_L.A. Clippers": 0.03476394849785408,
          "Team_L.A. Lakers": 0.03454935622317597,
          "Team_Memphis": 0.03454935622317597,
          "Team_Miami": 0.03454935622317597,
          "Team_Milwaukee": 0.03476394849785408,
          "Team_Minnesota": 0.03454935622317597,
          "Team_New Orleans": 0.03454935622317597,
          "Team_New York": 0.03454935622317597,
          "Team_Oklahoma City": 0.03412017167381974,
          "Team_Orlando": 0.03476394849785408,
          "Team_Philadelphia": 0.034334763948497854,
          "Team_Phoenix": 0.034334763948497854,
          "Team_Portland": 0.03454935622317597,
          "Team_Sacramento": 0.03369098712446352,
          "Team_San Antonio": 0.034334763948497854,
          "Team_Toronto": 0.03454935622317597,
          "Team_Utah": 0.03476394849785408,
          "Team_Washington": 0.03476394849785408,
          "Ticket_Value_Predictions": 0.40429407358169556,
          "Tot_RPM": -0.002951761292489257,
          "Tot_WINS": 0.005754210862660972,
          "WIN_Perc": 0.5076101757369083,
          "Wins_Entering_Gm": 20.817596566523605,
          "market_size": 2.2047939914162678,
          "player1_DRPM": 0.12649391617845945,
          "player1_ORPM": 1.4779652996845583,
          "player1_RPM": 1.6044592158630058,
          "player1_RPM_portion": 0.00018011879360072192,
          "player1_WINS": 7.431347453807999,
          "player1_WINS_portion": 0.0008480545347003134,
          "player1_minutes": 36.4343347639485,
          "player2_DRPM": -0.03621064552661359,
          "player2_ORPM": 1.0304892412231061,
          "player2_RPM": 0.9942785956964842,
          "player2_RPM_portion": 0.00011771833861834751,
          "player2_WINS": 6.117730464326189,
          "player2_WINS_portion": 0.0007474565898074731,
          "player2_minutes": 33.97124463519313,
          "player3_DRPM": 0.17067143516382233,
          "player3_ORPM": 0.4182464236271342,
          "player3_RPM": 0.5889178587909472,
          "player3_RPM_portion": 7.189134656206699e-05,
          "player3_WINS": 5.177602676511286,
          "player3_WINS_portion": 0.0006756861654360872,
          "player3_minutes": 31.742918454935623,
          "player4_DRPM": 0.12260960820895496,
          "player4_ORPM": 0.029321361940299,
          "player4_RPM": 0.15193097014925178,
          "player4_RPM_portion": 1.612244636194038e-05,
          "player4_WINS": 4.279099813432857,
          "player4_WINS_portion": 0.0006020657733208943,
          "player4_minutes": 29.42038626609442,
          "player5_DRPM": 0.15111320754716975,
          "player5_ORPM": -0.35759433962264137,
          "player5_RPM": -0.2064811320754731,
          "player5_RPM_portion": -3.6037810613207384e-05,
          "player5_WINS": 3.5365896226415,
          "player5_WINS_portion": 0.0005521811686320691,
          "player5_minutes": 26.64420600858369,
          "player6_DRPM": -0.11277965284474285,
          "player6_ORPM": -0.5993008678881452,
          "player6_RPM": -0.712080520732876,
          "player6_RPM_portion": -0.00013601031292188897,
          "player6_WINS": 2.6099831243972886,
          "player6_WINS_portion": 0.00047324584932497825,
          "player6_minutes": 22.92489270386266,
          "player7_DRPM": -0.025170755170755066,
          "player7_ORPM": -0.8544179894179836,
          "player7_RPM": -0.8795887445887343,
          "player7_RPM_portion": -0.0001948868191438186,
          "player7_WINS": 2.2044588744588944,
          "player7_WINS_portion": 0.00046350967003366806,
          "player7_minutes": 19.759871244635193,
          "player8_DRPM": 0.0733269184508063,
          "player8_ORPM": -1.0875198460428035,
          "player8_RPM": -1.0141929275920136,
          "player8_RPM_portion": -0.0002696455949001659,
          "player8_WINS": 1.8299999999999959,
          "player8_WINS_portion": 0.0004621894556170286,
          "player8_minutes": 16.689781021897808,
          "superteam_flg": 0
         },
         {
          "Day_Of_WeekFri": 0.1830472103004292,
          "Day_Of_WeekMon": 0.1444206008583691,
          "Day_Of_WeekSat": 0.15278969957081545,
          "Day_Of_WeekSun": 0.1203862660944206,
          "Day_Of_WeekThu": 0.08862660944206009,
          "Day_Of_WeekTue": 0.11974248927038626,
          "Day_Of_WeekWed": 0.19098712446351931,
          "Losses_Entering_Gm": 20.121888412017167,
          "Salaries": 106015773.45944206,
          "Season_2014-15": 0,
          "Season_2015-16": 0,
          "Season_2016-17": 0.49763948497854077,
          "Season_2017-18": 0.5023605150214592,
          "TV_Rating_Predictions": 0.5331376791000366,
          "Team_Atlanta": 0.03454935622317597,
          "Team_Boston": 0.034334763948497854,
          "Team_Brooklyn": 0,
          "Team_Charlotte": 0.03476394849785408,
          "Team_Chicago": 0.03454935622317597,
          "Team_Cleveland": 0.03454935622317597,
          "Team_Dallas": 0.03347639484978541,
          "Team_Denver": 0.03412017167381974,
          "Team_Detroit": 0.03476394849785408,
          "Team_Golden State": 0.03454935622317597,
          "Team_Houston": 0.03476394849785408,
          "Team_Indiana": 0.03454935622317597,
          "Team_L.A. Clippers": 0.03476394849785408,
          "Team_L.A. Lakers": 0.03454935622317597,
          "Team_Memphis": 0.03454935622317597,
          "Team_Miami": 0.03454935622317597,
          "Team_Milwaukee": 0.03476394849785408,
          "Team_Minnesota": 0.03454935622317597,
          "Team_New Orleans": 0.03454935622317597,
          "Team_New York": 0.03454935622317597,
          "Team_Oklahoma City": 0.03412017167381974,
          "Team_Orlando": 0.03476394849785408,
          "Team_Philadelphia": 0.034334763948497854,
          "Team_Phoenix": 0.034334763948497854,
          "Team_Portland": 0.03454935622317597,
          "Team_Sacramento": 0.03369098712446352,
          "Team_San Antonio": 0.034334763948497854,
          "Team_Toronto": 0.03454935622317597,
          "Team_Utah": 0.03476394849785408,
          "Team_Washington": 0.03476394849785408,
          "Ticket_Value_Predictions": 0.4465968608856201,
          "Tot_RPM": -0.002951761292489257,
          "Tot_WINS": 0.005754210862660972,
          "WIN_Perc": 0.5076101757369083,
          "Wins_Entering_Gm": 20.817596566523605,
          "market_size": 2.2047939914162678,
          "player1_DRPM": 0.12649391617845945,
          "player1_ORPM": 1.4779652996845583,
          "player1_RPM": 1.6044592158630058,
          "player1_RPM_portion": 0.00018011879360072192,
          "player1_WINS": 7.431347453807999,
          "player1_WINS_portion": 0.0008480545347003134,
          "player1_minutes": 36.4343347639485,
          "player2_DRPM": -0.03621064552661359,
          "player2_ORPM": 1.0304892412231061,
          "player2_RPM": 0.9942785956964842,
          "player2_RPM_portion": 0.00011771833861834751,
          "player2_WINS": 6.117730464326189,
          "player2_WINS_portion": 0.0007474565898074731,
          "player2_minutes": 33.97124463519313,
          "player3_DRPM": 0.17067143516382233,
          "player3_ORPM": 0.4182464236271342,
          "player3_RPM": 0.5889178587909472,
          "player3_RPM_portion": 7.189134656206699e-05,
          "player3_WINS": 5.177602676511286,
          "player3_WINS_portion": 0.0006756861654360872,
          "player3_minutes": 31.742918454935623,
          "player4_DRPM": 0.12260960820895496,
          "player4_ORPM": 0.029321361940299,
          "player4_RPM": 0.15193097014925178,
          "player4_RPM_portion": 1.612244636194038e-05,
          "player4_WINS": 4.279099813432857,
          "player4_WINS_portion": 0.0006020657733208943,
          "player4_minutes": 29.42038626609442,
          "player5_DRPM": 0.15111320754716975,
          "player5_ORPM": -0.35759433962264137,
          "player5_RPM": -0.2064811320754731,
          "player5_RPM_portion": -3.6037810613207384e-05,
          "player5_WINS": 3.5365896226415,
          "player5_WINS_portion": 0.0005521811686320691,
          "player5_minutes": 26.64420600858369,
          "player6_DRPM": -0.11277965284474285,
          "player6_ORPM": -0.5993008678881452,
          "player6_RPM": -0.712080520732876,
          "player6_RPM_portion": -0.00013601031292188897,
          "player6_WINS": 2.6099831243972886,
          "player6_WINS_portion": 0.00047324584932497825,
          "player6_minutes": 22.92489270386266,
          "player7_DRPM": -0.025170755170755066,
          "player7_ORPM": -0.8544179894179836,
          "player7_RPM": -0.8795887445887343,
          "player7_RPM_portion": -0.0001948868191438186,
          "player7_WINS": 2.2044588744588944,
          "player7_WINS_portion": 0.00046350967003366806,
          "player7_minutes": 19.759871244635193,
          "player8_DRPM": 0.0733269184508063,
          "player8_ORPM": -1.0875198460428035,
          "player8_RPM": -1.0141929275920136,
          "player8_RPM_portion": -0.0002696455949001659,
          "player8_WINS": 1.8299999999999959,
          "player8_WINS_portion": 0.0004621894556170286,
          "player8_minutes": 16.689781021897808,
          "superteam_flg": 1
         }
        ]
       },
       "encoding": {
        "color": {
         "field": "superteam_flg",
         "type": "nominal"
        },
        "x": {
         "field": "superteam_flg",
         "title": "",
         "type": "ordinal"
        },
        "y": {
         "field": "Ticket_Value_Predictions",
         "scale": {
          "domain": [
           0,
           0.75
          ]
         },
         "type": "quantitative"
        }
       },
       "mark": "bar"
      },
      "image/png": "[encoded data removed]",
      "text/plain": [
       "<VegaLite 2 object>\n",
       "\n",
       "If you see this message, it means the renderer has not been properly enabled\n",
       "for the frontend that you are using. For more information, see\n",
       "https://altair-viz.github.io/user_guide/troubleshooting.html\n"
      ]
     },
     "execution_count": 26,
     "metadata": {},
     "output_type": "execute_result"
    }
   ],
   "source": [
    "alt.Chart(pdp_predictions).mark_bar().encode(\n",
    "    x=alt.X('superteam_flg:O', title=''),\n",
    "    y=alt.Y('Ticket_Value_Predictions:Q', scale=alt.Scale(domain=[0, .75])),    \n",
    "    color='superteam_flg:N'\n",
    ")"
   ]
  },
  {
   "cell_type": "code",
   "execution_count": 26,
   "metadata": {},
   "outputs": [
    {
     "data": {
      "text/plain": [
       "<matplotlib.axes._subplots.AxesSubplot at 0x1383986acf8>"
      ]
     },
     "execution_count": 26,
     "metadata": {},
     "output_type": "execute_result"
    },
    {
     "data": {
      "image/png": "[encoded data removed]",
      "text/plain": [
       "<Figure size 432x288 with 1 Axes>"
      ]
     },
     "metadata": {
      "needs_background": "light"
     },
     "output_type": "display_data"
    }
   ],
   "source": [
    "df['Ticket_Value'].plot(kind='kde')"
   ]
  },
  {
   "cell_type": "code",
   "execution_count": 51,
   "metadata": {},
   "outputs": [
    {
     "data": {
      "text/plain": [
       "<matplotlib.axes._subplots.AxesSubplot at 0x1a688270a20>"
      ]
     },
     "execution_count": 51,
     "metadata": {},
     "output_type": "execute_result"
    },
    {
     "data": {
      "image/png": "[encoded data removed]",
      "text/plain": [
       "<Figure size 432x288 with 1 Axes>"
      ]
     },
     "metadata": {
      "needs_background": "light"
     },
     "output_type": "display_data"
    }
   ],
   "source": [
    "df['TV_Rate'].plot(kind='kde')"
   ]
  },
  {
   "cell_type": "code",
   "execution_count": 52,
   "metadata": {},
   "outputs": [],
   "source": [
    "\n",
    "superteam_absent_2 = X.copy().assign(superteam_flg = 0).assign(superteam_status='absent')\n",
    "superteam_present_2 = X.copy().assign(superteam_flg = 1).assign(superteam_status='present')\n",
    "superteam_preds = pd.concat([superteam_absent_2, superteam_present_2])\n"
   ]
  },
  {
   "cell_type": "code",
   "execution_count": 55,
   "metadata": {},
   "outputs": [
    {
     "data": {
      "text/plain": [
       "XGBRegressor(base_score=0.5, booster='gbtree', colsample_bylevel=1,\n",
       "       colsample_bytree=0.8, gamma=0, learning_rate=0.05, max_delta_step=0,\n",
       "       max_depth=2, min_child_weight=11, missing=-999, n_estimators=500,\n",
       "       n_jobs=1, nthread=4, objective='reg:linear', random_state=0,\n",
       "       reg_alpha=0, reg_lambda=1, scale_pos_weight=1, seed=42, silent=1,\n",
       "       subsample=0.8)"
      ]
     },
     "execution_count": 55,
     "metadata": {},
     "output_type": "execute_result"
    }
   ],
   "source": [
    "gbr_tv = xgb.XGBRegressor()\n",
    "gbr_tickets = xgb.XGBRegressor(**best_params_tickets)\n",
    "gbr_tv.fit(X, Y_TV)\n",
    "gbr_tickets.fit(X, Y_Tickets)"
   ]
  },
  {
   "cell_type": "code",
   "execution_count": 56,
   "metadata": {},
   "outputs": [],
   "source": [
    "superteam_preds['TV_Rating_Predictions'] = gbr_tv.predict(superteam_preds.drop(columns=['superteam_status']))\n",
    "superteam_preds['Ticket_Value_Predictions'] = gbr_tickets.predict(superteam_preds.drop(columns=['superteam_status', 'TV_Rating_Predictions']))"
   ]
  },
  {
   "cell_type": "code",
   "execution_count": 61,
   "metadata": {},
   "outputs": [
    {
     "data": {
      "text/html": [
       "<div>\n",
       "<style scoped>\n",
       "    .dataframe tbody tr th:only-of-type {\n",
       "        vertical-align: middle;\n",
       "    }\n",
       "\n",
       "    .dataframe tbody tr th {\n",
       "        vertical-align: top;\n",
       "    }\n",
       "\n",
       "    .dataframe thead th {\n",
       "        text-align: right;\n",
       "    }\n",
       "</style>\n",
       "<table border=\"1\" class=\"dataframe\">\n",
       "  <thead>\n",
       "    <tr style=\"text-align: right;\">\n",
       "      <th></th>\n",
       "      <th>Avg_Output</th>\n",
       "    </tr>\n",
       "    <tr>\n",
       "      <th>superteam_flg</th>\n",
       "      <th></th>\n",
       "    </tr>\n",
       "  </thead>\n",
       "  <tbody>\n",
       "    <tr>\n",
       "      <th>0</th>\n",
       "      <td>3.380692</td>\n",
       "    </tr>\n",
       "    <tr>\n",
       "      <th>1</th>\n",
       "      <td>7.173040</td>\n",
       "    </tr>\n",
       "    <tr>\n",
       "      <th>0</th>\n",
       "      <td>0.464892</td>\n",
       "    </tr>\n",
       "    <tr>\n",
       "      <th>1</th>\n",
       "      <td>0.505969</td>\n",
       "    </tr>\n",
       "  </tbody>\n",
       "</table>\n",
       "</div>"
      ],
      "text/plain": [
       "               Avg_Output\n",
       "superteam_flg            \n",
       "0                3.380692\n",
       "1                7.173040\n",
       "0                0.464892\n",
       "1                0.505969"
      ]
     },
     "execution_count": 61,
     "metadata": {},
     "output_type": "execute_result"
    }
   ],
   "source": [
    "pd.concat([superteam_preds.groupby(by='superteam_flg').mean()['TV_Rating_Predictions'].to_frame('Avg_Output'),\n",
    "          superteam_preds.groupby(by='superteam_flg').mean()['Ticket_Value_Predictions'].to_frame('Avg_Output'),\n",
    "          ],\n",
    "         )"
   ]
  },
  {
   "cell_type": "code",
   "execution_count": 58,
   "metadata": {},
   "outputs": [
    {
     "data": {
      "text/plain": [
       "superteam_flg\n",
       "0    0.464892\n",
       "1    0.505969\n",
       "Name: Ticket_Value_Predictions, dtype: float32"
      ]
     },
     "execution_count": 58,
     "metadata": {},
     "output_type": "execute_result"
    }
   ],
   "source": [
    "superteam_preds.groupby(by='superteam_flg').mean()['Ticket_Value_Predictions']"
   ]
  },
  {
   "cell_type": "code",
   "execution_count": null,
   "metadata": {},
   "outputs": [],
   "source": []
  }
 ],
 "metadata": {
  "kernelspec": {
   "display_name": "claims",
   "language": "python",
   "name": "claims"
  },
  "language_info": {
   "codemirror_mode": {
    "name": "ipython",
    "version": 3
   },
   "file_extension": ".py",
   "mimetype": "text/x-python",
   "name": "python",
   "nbconvert_exporter": "python",
   "pygments_lexer": "ipython3",
   "version": "3.6.6"
  }
 },
 "nbformat": 4,
 "nbformat_minor": 2
}
