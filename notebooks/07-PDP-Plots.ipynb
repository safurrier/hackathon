{
 "cells": [
  {
   "cell_type": "code",
   "execution_count": 1,
   "metadata": {},
   "outputs": [],
   "source": [
    "import ruamel.yaml as yaml\n",
    "import os\n",
    "import sys\n",
    "import pandas as pd\n",
    "import numpy as np\n",
    "import xgboost as xgb\n",
    "import shap\n",
    "from sklearn.model_selection import train_test_split\n",
    "\n",
    "NO_CONFIG_ERR_MSG = \"\"\"No config file found. Root directory is determined by presence of \"config.yaml\" file.\"\"\"\n",
    "\n",
    "original_wd = os.getcwd()\n",
    "\n",
    "# Number of times to move back in directory\n",
    "num_retries = 10\n",
    "for x in range(0, num_retries):\n",
    "    # try to load config file\n",
    "    try:\n",
    "        with open(\"config.yaml\", 'r') as stream:\n",
    "            cfg = yaml.safe_load(stream)\n",
    "    # If not found move back one directory level\n",
    "    except FileNotFoundError:\n",
    "        os.chdir('../')\n",
    "        # If reached the max number of directory levels change to original wd and print error msg\n",
    "        if x+1 == num_retries:\n",
    "            os.chdir(original_wd)\n",
    "            print(NO_CONFIG_ERR_MSG)\n",
    "\n",
    "# Add directory to PATH\n",
    "path = os.getcwd()\n",
    "\n",
    "if path not in sys.path:\n",
    "    sys.path.append(path)\n"
   ]
  },
  {
   "cell_type": "markdown",
   "metadata": {},
   "source": [
    "## Load and Process Data"
   ]
  },
  {
   "cell_type": "code",
   "execution_count": 2,
   "metadata": {},
   "outputs": [],
   "source": [
    "df = pd.read_csv('data/processed/modelling_data_dropped_null_wins.csv')"
   ]
  },
  {
   "cell_type": "markdown",
   "metadata": {},
   "source": [
    "## Fit Model"
   ]
  },
  {
   "cell_type": "code",
   "execution_count": 3,
   "metadata": {},
   "outputs": [
    {
     "data": {
      "text/html": [
       "<div>\n",
       "<style scoped>\n",
       "    .dataframe tbody tr th:only-of-type {\n",
       "        vertical-align: middle;\n",
       "    }\n",
       "\n",
       "    .dataframe tbody tr th {\n",
       "        vertical-align: top;\n",
       "    }\n",
       "\n",
       "    .dataframe thead th {\n",
       "        text-align: right;\n",
       "    }\n",
       "</style>\n",
       "<table border=\"1\" class=\"dataframe\">\n",
       "  <thead>\n",
       "    <tr style=\"text-align: right;\">\n",
       "      <th></th>\n",
       "      <th>Season_2014-15</th>\n",
       "      <th>Season_2015-16</th>\n",
       "      <th>Season_2016-17</th>\n",
       "      <th>Season_2017-18</th>\n",
       "      <th>Day_Of_WeekFri</th>\n",
       "      <th>Day_Of_WeekMon</th>\n",
       "      <th>Day_Of_WeekSat</th>\n",
       "      <th>Day_Of_WeekSun</th>\n",
       "      <th>Day_Of_WeekThu</th>\n",
       "      <th>Day_Of_WeekTue</th>\n",
       "      <th>...</th>\n",
       "      <th>player8_WINS</th>\n",
       "      <th>player8_RPM</th>\n",
       "      <th>player8_DRPM</th>\n",
       "      <th>player8_ORPM</th>\n",
       "      <th>player8_WINS_portion</th>\n",
       "      <th>player8_RPM_portion</th>\n",
       "      <th>Tot_WINS</th>\n",
       "      <th>Tot_RPM</th>\n",
       "      <th>Ticket_Value</th>\n",
       "      <th>TV_Rate</th>\n",
       "    </tr>\n",
       "  </thead>\n",
       "  <tbody>\n",
       "    <tr>\n",
       "      <th>0</th>\n",
       "      <td>0</td>\n",
       "      <td>0</td>\n",
       "      <td>1</td>\n",
       "      <td>0</td>\n",
       "      <td>0</td>\n",
       "      <td>0</td>\n",
       "      <td>0</td>\n",
       "      <td>0</td>\n",
       "      <td>1</td>\n",
       "      <td>0</td>\n",
       "      <td>...</td>\n",
       "      <td>2.67</td>\n",
       "      <td>-0.60</td>\n",
       "      <td>-0.46</td>\n",
       "      <td>-0.14</td>\n",
       "      <td>0.000927</td>\n",
       "      <td>-0.000208</td>\n",
       "      <td>0.004895</td>\n",
       "      <td>-0.000510</td>\n",
       "      <td>0.671432</td>\n",
       "      <td>5.288334</td>\n",
       "    </tr>\n",
       "    <tr>\n",
       "      <th>1</th>\n",
       "      <td>0</td>\n",
       "      <td>0</td>\n",
       "      <td>1</td>\n",
       "      <td>0</td>\n",
       "      <td>0</td>\n",
       "      <td>0</td>\n",
       "      <td>0</td>\n",
       "      <td>0</td>\n",
       "      <td>1</td>\n",
       "      <td>0</td>\n",
       "      <td>...</td>\n",
       "      <td>0.05</td>\n",
       "      <td>-3.02</td>\n",
       "      <td>-0.06</td>\n",
       "      <td>-2.96</td>\n",
       "      <td>0.000016</td>\n",
       "      <td>-0.000968</td>\n",
       "      <td>0.006687</td>\n",
       "      <td>-0.008436</td>\n",
       "      <td>0.697920</td>\n",
       "      <td>5.698246</td>\n",
       "    </tr>\n",
       "    <tr>\n",
       "      <th>2</th>\n",
       "      <td>0</td>\n",
       "      <td>0</td>\n",
       "      <td>1</td>\n",
       "      <td>0</td>\n",
       "      <td>1</td>\n",
       "      <td>0</td>\n",
       "      <td>0</td>\n",
       "      <td>0</td>\n",
       "      <td>0</td>\n",
       "      <td>0</td>\n",
       "      <td>...</td>\n",
       "      <td>4.06</td>\n",
       "      <td>0.13</td>\n",
       "      <td>-1.23</td>\n",
       "      <td>1.36</td>\n",
       "      <td>0.001208</td>\n",
       "      <td>0.000039</td>\n",
       "      <td>0.005304</td>\n",
       "      <td>-0.000855</td>\n",
       "      <td>0.725555</td>\n",
       "      <td>4.477193</td>\n",
       "    </tr>\n",
       "    <tr>\n",
       "      <th>3</th>\n",
       "      <td>0</td>\n",
       "      <td>0</td>\n",
       "      <td>1</td>\n",
       "      <td>0</td>\n",
       "      <td>1</td>\n",
       "      <td>0</td>\n",
       "      <td>0</td>\n",
       "      <td>0</td>\n",
       "      <td>0</td>\n",
       "      <td>0</td>\n",
       "      <td>...</td>\n",
       "      <td>0.98</td>\n",
       "      <td>-0.26</td>\n",
       "      <td>0.13</td>\n",
       "      <td>-0.39</td>\n",
       "      <td>0.000204</td>\n",
       "      <td>-0.000054</td>\n",
       "      <td>0.006790</td>\n",
       "      <td>-0.011398</td>\n",
       "      <td>0.463623</td>\n",
       "      <td>3.068853</td>\n",
       "    </tr>\n",
       "    <tr>\n",
       "      <th>4</th>\n",
       "      <td>0</td>\n",
       "      <td>0</td>\n",
       "      <td>1</td>\n",
       "      <td>0</td>\n",
       "      <td>1</td>\n",
       "      <td>0</td>\n",
       "      <td>0</td>\n",
       "      <td>0</td>\n",
       "      <td>0</td>\n",
       "      <td>0</td>\n",
       "      <td>...</td>\n",
       "      <td>2.40</td>\n",
       "      <td>-0.68</td>\n",
       "      <td>-1.24</td>\n",
       "      <td>0.56</td>\n",
       "      <td>0.000833</td>\n",
       "      <td>-0.000236</td>\n",
       "      <td>0.006875</td>\n",
       "      <td>-0.001303</td>\n",
       "      <td>0.759319</td>\n",
       "      <td>4.683684</td>\n",
       "    </tr>\n",
       "  </tbody>\n",
       "</table>\n",
       "<p>5 rows × 107 columns</p>\n",
       "</div>"
      ],
      "text/plain": [
       "   Season_2014-15  Season_2015-16  Season_2016-17  Season_2017-18  \\\n",
       "0               0               0               1               0   \n",
       "1               0               0               1               0   \n",
       "2               0               0               1               0   \n",
       "3               0               0               1               0   \n",
       "4               0               0               1               0   \n",
       "\n",
       "   Day_Of_WeekFri  Day_Of_WeekMon  Day_Of_WeekSat  Day_Of_WeekSun  \\\n",
       "0               0               0               0               0   \n",
       "1               0               0               0               0   \n",
       "2               1               0               0               0   \n",
       "3               1               0               0               0   \n",
       "4               1               0               0               0   \n",
       "\n",
       "   Day_Of_WeekThu  Day_Of_WeekTue    ...     player8_WINS  player8_RPM  \\\n",
       "0               1               0    ...             2.67        -0.60   \n",
       "1               1               0    ...             0.05        -3.02   \n",
       "2               0               0    ...             4.06         0.13   \n",
       "3               0               0    ...             0.98        -0.26   \n",
       "4               0               0    ...             2.40        -0.68   \n",
       "\n",
       "   player8_DRPM  player8_ORPM  player8_WINS_portion  player8_RPM_portion  \\\n",
       "0         -0.46         -0.14              0.000927            -0.000208   \n",
       "1         -0.06         -2.96              0.000016            -0.000968   \n",
       "2         -1.23          1.36              0.001208             0.000039   \n",
       "3          0.13         -0.39              0.000204            -0.000054   \n",
       "4         -1.24          0.56              0.000833            -0.000236   \n",
       "\n",
       "   Tot_WINS   Tot_RPM  Ticket_Value   TV_Rate  \n",
       "0  0.004895 -0.000510      0.671432  5.288334  \n",
       "1  0.006687 -0.008436      0.697920  5.698246  \n",
       "2  0.005304 -0.000855      0.725555  4.477193  \n",
       "3  0.006790 -0.011398      0.463623  3.068853  \n",
       "4  0.006875 -0.001303      0.759319  4.683684  \n",
       "\n",
       "[5 rows x 107 columns]"
      ]
     },
     "execution_count": 3,
     "metadata": {},
     "output_type": "execute_result"
    }
   ],
   "source": [
    "df.head()"
   ]
  },
  {
   "cell_type": "code",
   "execution_count": 72,
   "metadata": {},
   "outputs": [],
   "source": [
    "X = df.drop(columns=['Ticket_Value', 'TV_Rate'])\n",
    "Y_Tickets = df['Ticket_Value']\n",
    "Y_TV = df['TV_Rate']"
   ]
  },
  {
   "cell_type": "code",
   "execution_count": 73,
   "metadata": {},
   "outputs": [],
   "source": [
    "best_params_tickets = {'subsample': 0.35000000000000003,\n",
    " 'n_estimators': 5,\n",
    " 'min_samples_split': 11,\n",
    " 'min_samples_leaf': 5,\n",
    " 'max_features': 0.9000000000000001,\n",
    " 'max_depth': 10,\n",
    " 'loss': 'ls',\n",
    " 'learning_rate': 0.001,\n",
    " 'alpha': 0.95}\n",
    "\n",
    "best_params_TV = {'subsample': 0.8500000000000001,\n",
    " 'n_estimators': 5,\n",
    " 'min_samples_split': 16,\n",
    " 'min_samples_leaf': 11,\n",
    " 'max_features': 0.45,\n",
    " 'max_depth': 6,\n",
    " 'loss': 'huber',\n",
    " 'learning_rate': 0.5,\n",
    " 'alpha': 0.85}"
   ]
  },
  {
   "cell_type": "code",
   "execution_count": 40,
   "metadata": {},
   "outputs": [],
   "source": [
    "from sklearn.ensemble import GradientBoostingRegressor\n",
    "from sklearn.ensemble.partial_dependence import partial_dependence\n",
    "from sklearn.ensemble.partial_dependence import plot_partial_dependence\n",
    "import matplotlib.pyplot as plt\n",
    "%matplotlib inline\n",
    "gbr_tv = GradientBoostingRegressor(**best_params_TV)\n",
    "gbr_tickets = GradientBoostingRegressor(**best_params_tickets)"
   ]
  },
  {
   "cell_type": "code",
   "execution_count": 41,
   "metadata": {},
   "outputs": [
    {
     "name": "stdout",
     "output_type": "stream",
     "text": [
      "Wall time: 985 ms\n"
     ]
    }
   ],
   "source": [
    "%%time\n",
    "gbr_tv.fit(X, Y_TV)\n",
    "gbr_tickets.fit(X, Y_Tickets)"
   ]
  },
  {
   "cell_type": "markdown",
   "metadata": {},
   "source": [
    "## Plot Partial Dependence"
   ]
  },
  {
   "cell_type": "code",
   "execution_count": 54,
   "metadata": {},
   "outputs": [],
   "source": [
    "pdp_fig_TV, tv_axes = partial_dependence(gbr_tv, Y_TV.values, grid=X['superteam_flg'].values.reshape(1,-1), percentiles=(0,1))\n",
    "pdp_fig_Tickets, tickets_axes = partial_dependence(gbr_tickets, Y_Tickets.values, grid=X['superteam_flg'].values.reshape(1,-1), percentiles=(0,1))\n"
   ]
  },
  {
   "cell_type": "code",
   "execution_count": 57,
   "metadata": {},
   "outputs": [],
   "source": [
    "tickets_axes"
   ]
  },
  {
   "cell_type": "markdown",
   "metadata": {},
   "source": [
    "## Using plot_partial_dependence function"
   ]
  },
  {
   "cell_type": "code",
   "execution_count": 69,
   "metadata": {},
   "outputs": [
    {
     "name": "stderr",
     "output_type": "stream",
     "text": [
      "C:\\Users\\afurrier\\AppData\\Local\\Continuum\\miniconda3\\envs\\hackathon\\lib\\site-packages\\matplotlib\\axes\\_base.py:3443: UserWarning: Attempting to set identical bottom==top results\n",
      "in singular transformations; automatically expanding.\n",
      "bottom=0.8583119524774302, top=0.8583119524774302\n",
      "  'bottom=%s, top=%s') % (bottom, top))\n"
     ]
    },
    {
     "ename": "AttributeError",
     "evalue": "'list' object has no attribute 'set_label'",
     "output_type": "error",
     "traceback": [
      "\u001b[1;31m---------------------------------------------------------------------------\u001b[0m",
      "\u001b[1;31mAttributeError\u001b[0m                            Traceback (most recent call last)",
      "\u001b[1;32m<ipython-input-69-804bbbc7c46f>\u001b[0m in \u001b[0;36m<module>\u001b[1;34m()\u001b[0m\n\u001b[0;32m      5\u001b[0m                                              )\n\u001b[0;32m      6\u001b[0m \u001b[0mpdp_fig_TV\u001b[0m\u001b[1;33m.\u001b[0m\u001b[0msuptitle\u001b[0m\u001b[1;33m(\u001b[0m\u001b[1;34m'Partial Dependence of Super Team on TV Ratings'\u001b[0m\u001b[1;33m)\u001b[0m\u001b[1;33m\u001b[0m\u001b[0m\n\u001b[1;32m----> 7\u001b[1;33m \u001b[0mtv_axes\u001b[0m\u001b[1;33m.\u001b[0m\u001b[0mset_label\u001b[0m\u001b[1;33m(\u001b[0m\u001b[1;34m'Super Team'\u001b[0m\u001b[1;33m)\u001b[0m\u001b[1;33m\u001b[0m\u001b[0m\n\u001b[0m\u001b[0;32m      8\u001b[0m \u001b[0mtv_axes\u001b[0m\u001b[1;33m.\u001b[0m\u001b[0mset_label\u001b[0m\u001b[1;33m(\u001b[0m\u001b[1;34m'TV Rating Prediction'\u001b[0m\u001b[1;33m)\u001b[0m\u001b[1;33m\u001b[0m\u001b[0m\n\u001b[0;32m      9\u001b[0m \u001b[0mtv_axes\u001b[0m\u001b[1;33m.\u001b[0m\u001b[0mylim\u001b[0m\u001b[1;33m(\u001b[0m\u001b[1;36m0\u001b[0m\u001b[1;33m,\u001b[0m \u001b[1;36m1\u001b[0m\u001b[1;33m)\u001b[0m\u001b[1;33m\u001b[0m\u001b[0m\n",
      "\u001b[1;31mAttributeError\u001b[0m: 'list' object has no attribute 'set_label'"
     ]
    },
    {
     "data": {
      "image/png": "[encoded data removed]",
      "text/plain": [
       "<Figure size 432x288 with 2 Axes>"
      ]
     },
     "metadata": {
      "needs_background": "light"
     },
     "output_type": "display_data"
    }
   ],
   "source": [
    "pdp_fig_TV, tv_axes = plot_partial_dependence(gbr_tv, X, features=['superteam_flg', 'Tot_WINS'], feature_names=['superteam_flg', 'Tot_WINS'],\n",
    "                                              n_cols=2,\n",
    "                                              percentiles=(0.0, 1.),\n",
    "                                              grid_resolution=500,\n",
    "                                             )\n",
    "pdp_fig_TV.suptitle('Partial Dependence of Super Team on TV Ratings')\n",
    "tv_axes.set_label('Super Team')\n",
    "tv_axes.set_label('TV Rating Prediction')\n",
    "tv_axes.ylim(0, 1)\n",
    "tv_axes.xlim(-1, 2)"
   ]
  },
  {
   "cell_type": "code",
   "execution_count": 77,
   "metadata": {},
   "outputs": [
    {
     "name": "stderr",
     "output_type": "stream",
     "text": [
      "C:\\Users\\afurrier\\AppData\\Local\\Continuum\\miniconda3\\envs\\hackathon\\lib\\site-packages\\matplotlib\\axes\\_base.py:3443: UserWarning: Attempting to set identical bottom==top results\n",
      "in singular transformations; automatically expanding.\n",
      "bottom=0.8583119524774302, top=0.8583119524774302\n",
      "  'bottom=%s, top=%s') % (bottom, top))\n"
     ]
    },
    {
     "data": {
      "image/png": "[encoded data removed]",
      "text/plain": [
       "<Figure size 432x288 with 3 Axes>"
      ]
     },
     "metadata": {
      "needs_background": "light"
     },
     "output_type": "display_data"
    }
   ],
   "source": [
    "feat_nums = [0,1,2]\n",
    "feats=['superteam_flg']\n",
    "feat_names=['Super Team Y/N']\n",
    "pdp_fig_TV, tv_axes = plot_partial_dependence(gbr_tv, X, feat_nums, feature_names=X.iloc[:, feat_nums].columns.values.tolist(),\n",
    "                                             )"
   ]
  },
  {
   "cell_type": "code",
   "execution_count": 80,
   "metadata": {},
   "outputs": [
    {
     "name": "stderr",
     "output_type": "stream",
     "text": [
      "C:\\Users\\afurrier\\AppData\\Local\\Continuum\\miniconda3\\envs\\hackathon\\lib\\site-packages\\matplotlib\\axes\\_base.py:3443: UserWarning: Attempting to set identical bottom==top results\n",
      "in singular transformations; automatically expanding.\n",
      "bottom=0.8583119524774302, top=0.8583119524774302\n",
      "  'bottom=%s, top=%s') % (bottom, top))\n"
     ]
    },
    {
     "data": {
      "image/png": "[encoded data removed]",
      "text/plain": [
       "<Figure size 432x288 with 1 Axes>"
      ]
     },
     "metadata": {
      "needs_background": "light"
     },
     "output_type": "display_data"
    }
   ],
   "source": [
    "pdp_fig_TV, tv_axes = plot_partial_dependence(gbr_tv, X, features=feats, feature_names=feats\n",
    "                                             )"
   ]
  },
  {
   "cell_type": "markdown",
   "metadata": {},
   "source": [
    "## Create PDP manually"
   ]
  },
  {
   "cell_type": "markdown",
   "metadata": {},
   "source": [
    "Xaxis is val -- > 0 or 1\n",
    "Y is output prediction\n",
    "\n",
    "1) Make predictions with Avg Prediction (take mean columnwise)\n",
    "\n",
    "2) Make Prediction when Superteam ==0, and when it ==1\n",
    "\n",
    "3) Plot these two rows"
   ]
  },
  {
   "cell_type": "code",
   "execution_count": 99,
   "metadata": {},
   "outputs": [],
   "source": [
    "avg_pred = pd.DataFrame(X.mean()).T\n",
    "superteam_absent = avg_pred.assign(superteam_flg = 0)\n",
    "superteam_present = avg_pred.assign(superteam_flg = 1)\n",
    "pdp_predictions = pd.concat([superteam_absent, superteam_present])\n",
    "pdp_predictions.index = ['Superteam_Absent', 'Superteam_Present']"
   ]
  },
  {
   "cell_type": "code",
   "execution_count": 100,
   "metadata": {},
   "outputs": [],
   "source": [
    "pdp_predictions['TV_Rating_Predictions'] = gbr_tv.predict(pdp_predictions)\n",
    "pdp_predictions['Ticket_Value_Predictions'] = gbr_tickets.predict(pdp_predictions.drop(columns='TV_Rating_Predictions'))"
   ]
  },
  {
   "cell_type": "code",
   "execution_count": 101,
   "metadata": {},
   "outputs": [
    {
     "ename": "ModuleNotFoundError",
     "evalue": "No module named 'altair'",
     "output_type": "error",
     "traceback": [
      "\u001b[1;31m---------------------------------------------------------------------------\u001b[0m",
      "\u001b[1;31mModuleNotFoundError\u001b[0m                       Traceback (most recent call last)",
      "\u001b[1;32m<ipython-input-101-43bef06448fc>\u001b[0m in \u001b[0;36m<module>\u001b[1;34m()\u001b[0m\n\u001b[1;32m----> 1\u001b[1;33m \u001b[1;32mimport\u001b[0m \u001b[0maltair\u001b[0m \u001b[1;32mas\u001b[0m \u001b[0malt\u001b[0m\u001b[1;33m\u001b[0m\u001b[0m\n\u001b[0m",
      "\u001b[1;31mModuleNotFoundError\u001b[0m: No module named 'altair'"
     ]
    }
   ],
   "source": [
    "import altair as alt"
   ]
  },
  {
   "cell_type": "code",
   "execution_count": 44,
   "metadata": {},
   "outputs": [
    {
     "ename": "TypeError",
     "evalue": "show() got an unexpected keyword argument 'fig'",
     "output_type": "error",
     "traceback": [
      "\u001b[1;31m---------------------------------------------------------------------------\u001b[0m",
      "\u001b[1;31mTypeError\u001b[0m                                 Traceback (most recent call last)",
      "\u001b[1;32m<ipython-input-44-01ff0458e391>\u001b[0m in \u001b[0;36m<module>\u001b[1;34m()\u001b[0m\n\u001b[1;32m----> 1\u001b[1;33m \u001b[0mplt\u001b[0m\u001b[1;33m.\u001b[0m\u001b[0mshow\u001b[0m\u001b[1;33m(\u001b[0m\u001b[0mfig\u001b[0m\u001b[1;33m=\u001b[0m\u001b[0mpdp_tv\u001b[0m\u001b[1;33m,\u001b[0m \u001b[0max\u001b[0m\u001b[1;33m=\u001b[0m\u001b[0mtv_axes\u001b[0m\u001b[1;33m)\u001b[0m\u001b[1;33m\u001b[0m\u001b[0m\n\u001b[0m",
      "\u001b[1;32m~\\AppData\\Local\\Continuum\\miniconda3\\envs\\hackathon\\lib\\site-packages\\matplotlib\\pyplot.py\u001b[0m in \u001b[0;36mshow\u001b[1;34m(*args, **kw)\u001b[0m\n\u001b[0;32m    251\u001b[0m     \"\"\"\n\u001b[0;32m    252\u001b[0m     \u001b[1;32mglobal\u001b[0m \u001b[0m_show\u001b[0m\u001b[1;33m\u001b[0m\u001b[0m\n\u001b[1;32m--> 253\u001b[1;33m     \u001b[1;32mreturn\u001b[0m \u001b[0m_show\u001b[0m\u001b[1;33m(\u001b[0m\u001b[1;33m*\u001b[0m\u001b[0margs\u001b[0m\u001b[1;33m,\u001b[0m \u001b[1;33m**\u001b[0m\u001b[0mkw\u001b[0m\u001b[1;33m)\u001b[0m\u001b[1;33m\u001b[0m\u001b[0m\n\u001b[0m\u001b[0;32m    254\u001b[0m \u001b[1;33m\u001b[0m\u001b[0m\n\u001b[0;32m    255\u001b[0m \u001b[1;33m\u001b[0m\u001b[0m\n",
      "\u001b[1;31mTypeError\u001b[0m: show() got an unexpected keyword argument 'fig'"
     ]
    }
   ],
   "source": [
    "plt.show("
   ]
  },
  {
   "cell_type": "code",
   "execution_count": null,
   "metadata": {},
   "outputs": [],
   "source": []
  }
 ],
 "metadata": {
  "kernelspec": {
   "display_name": "claims",
   "language": "python",
   "name": "claims"
  },
  "language_info": {
   "codemirror_mode": {
    "name": "ipython",
    "version": 3
   },
   "file_extension": ".py",
   "mimetype": "text/x-python",
   "name": "python",
   "nbconvert_exporter": "python",
   "pygments_lexer": "ipython3",
   "version": "3.6.6"
  }
 },
 "nbformat": 4,
 "nbformat_minor": 2
}
